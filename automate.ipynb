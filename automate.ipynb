{
 "cells": [
  {
   "cell_type": "code",
   "execution_count": 4,
   "metadata": {},
   "outputs": [
    {
     "name": "stdout",
     "output_type": "stream",
     "text": [
      "hi\n"
     ]
    }
   ],
   "source": [
    "import pyautogui as pg\n",
    "import time\n",
    "\n",
    "time.sleep(5)\n",
    "print(\"hi\")\n",
    "pg.click()\n",
    "pg.hotkey('ctrl','shift','i')\n",
    "time.sleep(2)\n",
    "pg.write('document.getElementsByClassName(\"AnalyseTable_analyse_body_row__3Ocdq \")')"
   ]
  },
  {
   "cell_type": "code",
   "execution_count": null,
   "metadata": {},
   "outputs": [],
   "source": [
    "n=21\n",
    "for i in range(n):\n",
    "    for j in range(i,n):\n",
    "        for k in range(i,j+1):"
   ]
  },
  {
   "cell_type": "code",
   "execution_count": 6,
   "metadata": {},
   "outputs": [
    {
     "ename": "AttributeError",
     "evalue": "'WebDriver' object has no attribute 'find_element_by_id'",
     "output_type": "error",
     "traceback": [
      "\u001b[1;31m---------------------------------------------------------------------------\u001b[0m",
      "\u001b[1;31mAttributeError\u001b[0m                            Traceback (most recent call last)",
      "\u001b[1;32mc:\\Users\\hp\\Desktop\\Intern Tasks\\Jupiter Files Task1\\automate.ipynb Cell 3\u001b[0m in \u001b[0;36m1\n\u001b[0;32m      <a href='vscode-notebook-cell:/c%3A/Users/hp/Desktop/Intern%20Tasks/Jupiter%20Files%20Task1/automate.ipynb#W2sZmlsZQ%3D%3D?line=7'>8</a>\u001b[0m driver\u001b[39m.\u001b[39mmaximize_window()\n\u001b[0;32m      <a href='vscode-notebook-cell:/c%3A/Users/hp/Desktop/Intern%20Tasks/Jupiter%20Files%20Task1/automate.ipynb#W2sZmlsZQ%3D%3D?line=8'>9</a>\u001b[0m driver\u001b[39m.\u001b[39mget(\u001b[39m\"\u001b[39m\u001b[39mhttps://www.tutorialspoint.com/index.htm\u001b[39m\u001b[39m\"\u001b[39m)\n\u001b[1;32m---> <a href='vscode-notebook-cell:/c%3A/Users/hp/Desktop/Intern%20Tasks/Jupiter%20Files%20Task1/automate.ipynb#W2sZmlsZQ%3D%3D?line=9'>10</a>\u001b[0m l\u001b[39m=\u001b[39mdriver\u001b[39m.\u001b[39mfind_element_by_id(\u001b[39m'\u001b[39m\u001b[39msearch-strings\u001b[39m\u001b[39m'\u001b[39m)\n\u001b[0;32m     <a href='vscode-notebook-cell:/c%3A/Users/hp/Desktop/Intern%20Tasks/Jupiter%20Files%20Task1/automate.ipynb#W2sZmlsZQ%3D%3D?line=10'>11</a>\u001b[0m \u001b[39m# l=driver.find_element()\u001b[39;00m\n\u001b[0;32m     <a href='vscode-notebook-cell:/c%3A/Users/hp/Desktop/Intern%20Tasks/Jupiter%20Files%20Task1/automate.ipynb#W2sZmlsZQ%3D%3D?line=11'>12</a>\u001b[0m \u001b[39m# vegetable = driver.find_element(By.CLASS_NAME, \"tomatoes\")\u001b[39;00m\n\u001b[0;32m     <a href='vscode-notebook-cell:/c%3A/Users/hp/Desktop/Intern%20Tasks/Jupiter%20Files%20Task1/automate.ipynb#W2sZmlsZQ%3D%3D?line=12'>13</a>\u001b[0m   \n\u001b[0;32m     <a href='vscode-notebook-cell:/c%3A/Users/hp/Desktop/Intern%20Tasks/Jupiter%20Files%20Task1/automate.ipynb#W2sZmlsZQ%3D%3D?line=13'>14</a>\u001b[0m \u001b[39m# capture the screenshot with screenshot method\u001b[39;00m\n\u001b[0;32m     <a href='vscode-notebook-cell:/c%3A/Users/hp/Desktop/Intern%20Tasks/Jupiter%20Files%20Task1/automate.ipynb#W2sZmlsZQ%3D%3D?line=14'>15</a>\u001b[0m l\u001b[39m.\u001b[39mscreenshot_as_png(\u001b[39m\"\u001b[39m\u001b[39mlogo.png\u001b[39m\u001b[39m\"\u001b[39m)\n",
      "\u001b[1;31mAttributeError\u001b[0m: 'WebDriver' object has no attribute 'find_element_by_id'"
     ]
    }
   ],
   "source": [
    "from selenium import webdriver\n",
    "from selenium.webdriver.common.by import By\n",
    "options = webdriver.ChromeOptions()\n",
    "# profile_directory=r'C:\\Users\\hp\\AppData\\Local\\Google\\Chrome\\User Data\\Profile 13'\n",
    "# options.add_argument(f'--user-data-dir={profile_directory}')\n",
    "\n",
    "driver = webdriver.Chrome ()\n",
    "driver.maximize_window()\n",
    "driver.get(\"https://www.tutorialspoint.com/index.htm\")\n",
    "l=driver.find_element_by_id('search-strings')\n",
    "# l=driver.find_element()\n",
    "# vegetable = driver.find_element(By.CLASS_NAME, \"tomatoes\")\n",
    "  \n",
    "# capture the screenshot with screenshot method\n",
    "l.screenshot_as_png(\"logo.png\")"
   ]
  },
  {
   "cell_type": "code",
   "execution_count": 28,
   "metadata": {},
   "outputs": [
    {
     "ename": "KeyboardInterrupt",
     "evalue": "",
     "output_type": "error",
     "traceback": [
      "\u001b[1;31m---------------------------------------------------------------------------\u001b[0m",
      "\u001b[1;31mTimeoutError\u001b[0m                              Traceback (most recent call last)",
      "File \u001b[1;32mc:\\Users\\hp\\lib\\socket.py:833\u001b[0m, in \u001b[0;36mcreate_connection\u001b[1;34m(address, timeout, source_address)\u001b[0m\n\u001b[0;32m    832\u001b[0m     sock\u001b[39m.\u001b[39mbind(source_address)\n\u001b[1;32m--> 833\u001b[0m sock\u001b[39m.\u001b[39;49mconnect(sa)\n\u001b[0;32m    834\u001b[0m \u001b[39m# Break explicitly a reference cycle\u001b[39;00m\n",
      "\u001b[1;31mTimeoutError\u001b[0m: timed out",
      "\nDuring handling of the above exception, another exception occurred:\n",
      "\u001b[1;31mKeyboardInterrupt\u001b[0m                         Traceback (most recent call last)",
      "\u001b[1;32mc:\\Users\\hp\\Desktop\\Intern Tasks\\Jupiter Files Task1\\automate.ipynb Cell 4\u001b[0m in \u001b[0;36m1\n\u001b[0;32m     <a href='vscode-notebook-cell:/c%3A/Users/hp/Desktop/Intern%20Tasks/Jupiter%20Files%20Task1/automate.ipynb#W4sZmlsZQ%3D%3D?line=12'>13</a>\u001b[0m chrome_options\u001b[39m.\u001b[39madd_argument(\u001b[39mf\u001b[39m\u001b[39m'\u001b[39m\u001b[39m--user-data-dir=\u001b[39m\u001b[39m{\u001b[39;00mprofile_directory\u001b[39m}\u001b[39;00m\u001b[39m'\u001b[39m)\n\u001b[0;32m     <a href='vscode-notebook-cell:/c%3A/Users/hp/Desktop/Intern%20Tasks/Jupiter%20Files%20Task1/automate.ipynb#W4sZmlsZQ%3D%3D?line=14'>15</a>\u001b[0m \u001b[39m# Launch Chrome browser with the specified profile\u001b[39;00m\n\u001b[1;32m---> <a href='vscode-notebook-cell:/c%3A/Users/hp/Desktop/Intern%20Tasks/Jupiter%20Files%20Task1/automate.ipynb#W4sZmlsZQ%3D%3D?line=15'>16</a>\u001b[0m browser \u001b[39m=\u001b[39m webdriver\u001b[39m.\u001b[39mChrome(service\u001b[39m=\u001b[39mwebdriver_service ,options\u001b[39m=\u001b[39mchrome_options)\n\u001b[0;32m     <a href='vscode-notebook-cell:/c%3A/Users/hp/Desktop/Intern%20Tasks/Jupiter%20Files%20Task1/automate.ipynb#W4sZmlsZQ%3D%3D?line=16'>17</a>\u001b[0m browser\u001b[39m.\u001b[39mexecute_script(\u001b[39m\"\u001b[39m\u001b[39mwindow.open(\u001b[39m\u001b[39m'\u001b[39m\u001b[39m'\u001b[39m\u001b[39m);\u001b[39m\u001b[39m\"\u001b[39m)\n\u001b[0;32m     <a href='vscode-notebook-cell:/c%3A/Users/hp/Desktop/Intern%20Tasks/Jupiter%20Files%20Task1/automate.ipynb#W4sZmlsZQ%3D%3D?line=18'>19</a>\u001b[0m \u001b[39m# Switch to the new tab\u001b[39;00m\n",
      "File \u001b[1;32mc:\\Users\\hp\\lib\\site-packages\\selenium\\webdriver\\chrome\\webdriver.py:84\u001b[0m, in \u001b[0;36mWebDriver.__init__\u001b[1;34m(self, executable_path, port, options, service_args, desired_capabilities, service_log_path, chrome_options, service, keep_alive)\u001b[0m\n\u001b[0;32m     81\u001b[0m     service \u001b[39m=\u001b[39m Service(executable_path, port, service_args, service_log_path)\n\u001b[0;32m     82\u001b[0m service\u001b[39m.\u001b[39mpath \u001b[39m=\u001b[39m DriverFinder\u001b[39m.\u001b[39mget_path(service, options)\n\u001b[1;32m---> 84\u001b[0m \u001b[39msuper\u001b[39;49m()\u001b[39m.\u001b[39;49m\u001b[39m__init__\u001b[39;49m(\n\u001b[0;32m     85\u001b[0m     DesiredCapabilities\u001b[39m.\u001b[39;49mCHROME[\u001b[39m\"\u001b[39;49m\u001b[39mbrowserName\u001b[39;49m\u001b[39m\"\u001b[39;49m],\n\u001b[0;32m     86\u001b[0m     \u001b[39m\"\u001b[39;49m\u001b[39mgoog\u001b[39;49m\u001b[39m\"\u001b[39;49m,\n\u001b[0;32m     87\u001b[0m     port,\n\u001b[0;32m     88\u001b[0m     options,\n\u001b[0;32m     89\u001b[0m     service_args,\n\u001b[0;32m     90\u001b[0m     desired_capabilities,\n\u001b[0;32m     91\u001b[0m     service_log_path,\n\u001b[0;32m     92\u001b[0m     service,\n\u001b[0;32m     93\u001b[0m     keep_alive,\n\u001b[0;32m     94\u001b[0m )\n",
      "File \u001b[1;32mc:\\Users\\hp\\lib\\site-packages\\selenium\\webdriver\\chromium\\webdriver.py:101\u001b[0m, in \u001b[0;36mChromiumDriver.__init__\u001b[1;34m(self, browser_name, vendor_prefix, port, options, service_args, desired_capabilities, service_log_path, service, keep_alive)\u001b[0m\n\u001b[0;32m     98\u001b[0m     \u001b[39mraise\u001b[39;00m \u001b[39mAttributeError\u001b[39;00m(\u001b[39m\"\u001b[39m\u001b[39mservice cannot be None\u001b[39m\u001b[39m\"\u001b[39m)\n\u001b[0;32m    100\u001b[0m \u001b[39mself\u001b[39m\u001b[39m.\u001b[39mservice \u001b[39m=\u001b[39m service\n\u001b[1;32m--> 101\u001b[0m \u001b[39mself\u001b[39;49m\u001b[39m.\u001b[39;49mservice\u001b[39m.\u001b[39;49mstart()\n\u001b[0;32m    103\u001b[0m \u001b[39mtry\u001b[39;00m:\n\u001b[0;32m    104\u001b[0m     \u001b[39msuper\u001b[39m()\u001b[39m.\u001b[39m\u001b[39m__init__\u001b[39m(\n\u001b[0;32m    105\u001b[0m         command_executor\u001b[39m=\u001b[39mChromiumRemoteConnection(\n\u001b[0;32m    106\u001b[0m             remote_server_addr\u001b[39m=\u001b[39m\u001b[39mself\u001b[39m\u001b[39m.\u001b[39mservice\u001b[39m.\u001b[39mservice_url,\n\u001b[1;32m   (...)\u001b[0m\n\u001b[0;32m    112\u001b[0m         options\u001b[39m=\u001b[39moptions,\n\u001b[0;32m    113\u001b[0m     )\n",
      "File \u001b[1;32mc:\\Users\\hp\\lib\\site-packages\\selenium\\webdriver\\common\\service.py:101\u001b[0m, in \u001b[0;36mService.start\u001b[1;34m(self)\u001b[0m\n\u001b[0;32m     99\u001b[0m \u001b[39mwhile\u001b[39;00m \u001b[39mTrue\u001b[39;00m:\n\u001b[0;32m    100\u001b[0m     \u001b[39mself\u001b[39m\u001b[39m.\u001b[39massert_process_still_running()\n\u001b[1;32m--> 101\u001b[0m     \u001b[39mif\u001b[39;00m \u001b[39mself\u001b[39;49m\u001b[39m.\u001b[39;49mis_connectable():\n\u001b[0;32m    102\u001b[0m         \u001b[39mbreak\u001b[39;00m\n\u001b[0;32m    104\u001b[0m     count \u001b[39m+\u001b[39m\u001b[39m=\u001b[39m \u001b[39m1\u001b[39m\n",
      "File \u001b[1;32mc:\\Users\\hp\\lib\\site-packages\\selenium\\webdriver\\common\\service.py:118\u001b[0m, in \u001b[0;36mService.is_connectable\u001b[1;34m(self)\u001b[0m\n\u001b[0;32m    115\u001b[0m \u001b[39mdef\u001b[39;00m \u001b[39mis_connectable\u001b[39m(\u001b[39mself\u001b[39m) \u001b[39m-\u001b[39m\u001b[39m>\u001b[39m \u001b[39mbool\u001b[39m:\n\u001b[0;32m    116\u001b[0m     \u001b[39m\"\"\"Establishes a socket connection to determine if the service running\u001b[39;00m\n\u001b[0;32m    117\u001b[0m \u001b[39m    on the port is accessible.\"\"\"\u001b[39;00m\n\u001b[1;32m--> 118\u001b[0m     \u001b[39mreturn\u001b[39;00m utils\u001b[39m.\u001b[39;49mis_connectable(\u001b[39mself\u001b[39;49m\u001b[39m.\u001b[39;49mport)\n",
      "File \u001b[1;32mc:\\Users\\hp\\lib\\site-packages\\selenium\\webdriver\\common\\utils.py:102\u001b[0m, in \u001b[0;36mis_connectable\u001b[1;34m(port, host)\u001b[0m\n\u001b[0;32m    100\u001b[0m socket_ \u001b[39m=\u001b[39m \u001b[39mNone\u001b[39;00m\n\u001b[0;32m    101\u001b[0m \u001b[39mtry\u001b[39;00m:\n\u001b[1;32m--> 102\u001b[0m     socket_ \u001b[39m=\u001b[39m socket\u001b[39m.\u001b[39;49mcreate_connection((host, port), \u001b[39m1\u001b[39;49m)\n\u001b[0;32m    103\u001b[0m     result \u001b[39m=\u001b[39m \u001b[39mTrue\u001b[39;00m\n\u001b[0;32m    104\u001b[0m \u001b[39mexcept\u001b[39;00m _is_connectable_exceptions:\n",
      "File \u001b[1;32mc:\\Users\\hp\\lib\\socket.py:833\u001b[0m, in \u001b[0;36mcreate_connection\u001b[1;34m(address, timeout, source_address)\u001b[0m\n\u001b[0;32m    831\u001b[0m \u001b[39mif\u001b[39;00m source_address:\n\u001b[0;32m    832\u001b[0m     sock\u001b[39m.\u001b[39mbind(source_address)\n\u001b[1;32m--> 833\u001b[0m sock\u001b[39m.\u001b[39;49mconnect(sa)\n\u001b[0;32m    834\u001b[0m \u001b[39m# Break explicitly a reference cycle\u001b[39;00m\n\u001b[0;32m    835\u001b[0m err \u001b[39m=\u001b[39m \u001b[39mNone\u001b[39;00m\n",
      "\u001b[1;31mKeyboardInterrupt\u001b[0m: "
     ]
    }
   ],
   "source": [
    "from selenium import webdriver\n",
    "from selenium.webdriver.chrome.service import Service\n",
    "from selenium.webdriver.chrome.options import Options\n",
    "\n",
    "# Path to the ChromeDriver executable\n",
    "webdriver_service = Service('C:\\Program Files (x86)\\Google\\Chrome\\Application\\chrome.exe')\n",
    "\n",
    "# Path to the user profile directory with double backslashes\n",
    "profile_directory = 'C:\\\\Users\\\\hp\\\\AppData\\\\Local\\\\Google\\\\Chrome\\\\User Data\\\\Profile 13'\n",
    "\n",
    "# Configure Chrome options\n",
    "chrome_options = Options()\n",
    "chrome_options.add_argument(f'--user-data-dir={profile_directory}')\n",
    "\n",
    "# Launch Chrome browser with the specified profile\n",
    "browser = webdriver.Chrome(service=webdriver_service ,options=chrome_options)\n",
    "browser.execute_script(\"window.open('');\")\n",
    "\n",
    "# Switch to the new tab\n",
    "browser.switch_to.window(driver.window_handles[-1])\n",
    "\n",
    "# Navigate to a website\n",
    "browser.get(\"https://www.google.com\")\n"
   ]
  }
 ],
 "metadata": {
  "kernelspec": {
   "display_name": "Python 3",
   "language": "python",
   "name": "python3"
  },
  "language_info": {
   "codemirror_mode": {
    "name": "ipython",
    "version": 3
   },
   "file_extension": ".py",
   "mimetype": "text/x-python",
   "name": "python",
   "nbconvert_exporter": "python",
   "pygments_lexer": "ipython3",
   "version": "3.10.7"
  },
  "orig_nbformat": 4
 },
 "nbformat": 4,
 "nbformat_minor": 2
}
