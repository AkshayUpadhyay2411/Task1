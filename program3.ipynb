{
 "cells": [
  {
   "cell_type": "code",
   "execution_count": 8,
   "metadata": {},
   "outputs": [
    {
     "name": "stdout",
     "output_type": "stream",
     "text": [
      "Before Modification : \n",
      "      Student Name  Roll Number  Maths  Science  Total\n",
      "0       Anuj Kumar          1.0   10.0     20.0     30\n",
      "1      Ayush Kumar          NaN   20.0     30.0     50\n",
      "2       Harsh Bang          3.0   30.0      NaN     30\n",
      "3      Aryan Kumar          4.0   40.0     50.0     90\n",
      "4     Kartik Gupta          NaN    NaN     60.0     60\n",
      "5     Priya Sharma          6.0   10.0     70.0     80\n",
      "6      Monu Mishra          7.0   20.0     80.0    100\n",
      "7  Akshay Upadhyay          NaN   30.0     40.0     70\n",
      "\n",
      "\n",
      "After Modification : \n",
      "      Student Name  Roll Number  Maths  Science  Total\n",
      "0       Anuj Kumar          1.0   10.0     20.0     30\n",
      "1      Ayush Kumar          2.0   20.0     30.0     50\n",
      "2       Harsh Bang          3.0   30.0      NaN     30\n",
      "3      Aryan Kumar          4.0   40.0     50.0     90\n",
      "4     Kartik Gupta          5.0    NaN     60.0     60\n",
      "5     Priya Sharma          6.0   10.0     70.0     80\n",
      "6      Monu Mishra          7.0   20.0     80.0    100\n",
      "7  Akshay Upadhyay          8.0   30.0     40.0     70\n"
     ]
    }
   ],
   "source": [
    "import pandas as pd\n",
    "\n",
    "# Step 1: Read the CSV file\n",
    "# Specify the path to the CSV file\n",
    "csv_file_path = 'sheets/Task1 - Sheet1.csv'\n",
    "\n",
    "# Read the CSV file into a DataFrame\n",
    "df = pd.read_csv(csv_file_path)\n",
    "print(\"Before Modification : \")\n",
    "print(df)\n",
    "\n",
    "\n",
    "# Step 2: Analyze the \"Roll Number\" column\n",
    "roll_numbers = df[\"Roll Number\"]\n",
    "# print(roll_numbers)\n",
    "\n",
    "\n",
    "# Step 3: Find the empty values in the \"Roll Number\" column\n",
    "empty_indices = roll_numbers.isnull()\n",
    "# print(empty_indices)\n",
    "\n",
    "\n",
    "# Step 4: Generate unique numbers to fill the empty values\n",
    "existing_numbers = roll_numbers.dropna().astype(int)\n",
    "# print(existing_numbers)\n",
    "\n",
    "\n",
    "new_numbers = set(range(1, len(df) + 1)) - set(existing_numbers)\n",
    "# print(new_numbers)\n",
    "\n",
    "\n",
    "new_numbers = list(new_numbers)[:empty_indices.sum()]\n",
    "# print(new_numbers)\n",
    "\n",
    "new_numbers.sort()\n",
    "\n",
    "# Step 5: Fill the empty values with unique numbers\n",
    "df.loc[empty_indices, \"Roll Number\"] = new_numbers\n",
    "\n",
    "\n",
    "# Step 6: Print the updated DataFrame\n",
    "print(\"\\n\\nAfter Modification : \")\n",
    "print(df)\n"
   ]
  },
  {
   "cell_type": "code",
   "execution_count": 9,
   "metadata": {},
   "outputs": [
    {
     "name": "stdout",
     "output_type": "stream",
     "text": [
      "      Student Name  Roll Number  Maths  Science  Total\n",
      "0       Anuj Kumar          1.0   10.0     20.0     30\n",
      "1      Ayush Kumar          8.0   20.0     30.0     50\n",
      "2       Harsh Bang          3.0   30.0      NaN     30\n",
      "3      Aryan Kumar          4.0   40.0     50.0     90\n",
      "4     Kartik Gupta          1.0    NaN     60.0     60\n",
      "5     Priya Sharma          6.0   10.0     70.0     80\n",
      "6      Monu Mishra          7.0   20.0     80.0    100\n",
      "7  Akshay Upadhyay          4.0   30.0     40.0     70\n"
     ]
    }
   ],
   "source": [
    "import pandas as pd\n",
    "import random\n",
    "\n",
    "# Specify the path to the CSV file\n",
    "csv_file_path = 'sheets/Task1 - Sheet1.csv'\n",
    "\n",
    "# Read the CSV file into a DataFrame\n",
    "df = pd.read_csv(csv_file_path)\n",
    "\n",
    "roll_numbers = df[\"Roll Number\"]\n",
    "\n",
    "empty_indices = roll_numbers.isnull()\n",
    "\n",
    "existing_numbers = roll_numbers.dropna().astype(int)\n",
    "\n",
    "empty_count = empty_indices.sum()\n",
    "\n",
    "random_numbers = []\n",
    "while len(random_numbers) < empty_count:\n",
    "    rand_num = random.randint(1, len(df))\n",
    "    if rand_num not in existing_numbers:\n",
    "        random_numbers.append(rand_num)\n",
    "\n",
    "df.loc[empty_indices, \"Roll Number\"] = random_numbers\n",
    "\n",
    "print(df)"
   ]
  },
  {
   "cell_type": "code",
   "execution_count": 14,
   "metadata": {},
   "outputs": [
    {
     "name": "stdout",
     "output_type": "stream",
     "text": [
      "      Student Name  Roll Number  Maths  Science  Total\n",
      "0       Anuj Kumar          1.0   10.0     20.0     30\n",
      "1      Ayush Kumar        223.0   20.0     30.0     50\n",
      "2       Harsh Bang          3.0   30.0      NaN     30\n",
      "3      Aryan Kumar          4.0   40.0     50.0     90\n",
      "4     Kartik Gupta         96.0    NaN     60.0     60\n",
      "5     Priya Sharma          6.0   10.0     70.0     80\n",
      "6      Monu Mishra          7.0   20.0     80.0    100\n",
      "7  Akshay Upadhyay        491.0   30.0     40.0     70\n"
     ]
    }
   ],
   "source": [
    "import pandas as pd\n",
    "import random\n",
    "\n",
    "# Specify the path to the CSV file\n",
    "csv_file_path = 'sheets/Task1 - Sheet1.csv'\n",
    "\n",
    "# Read the CSV file into a DataFrame\n",
    "df = pd.read_csv(csv_file_path) \n",
    "\n",
    "roll_numbers = df[\"Roll Number\"]\n",
    "\n",
    "empty_indices = roll_numbers.isnull()\n",
    "\n",
    "existing_numbers = roll_numbers.dropna().astype(int)\n",
    "\n",
    "empty_count = empty_indices.sum()\n",
    "\n",
    "random_numbers = []\n",
    "while len(random_numbers) < empty_count:\n",
    "    rand_num = random.randint(1, (len(df) * 100))\n",
    "    if rand_num not in existing_numbers:\n",
    "        random_numbers.append(rand_num)\n",
    "\n",
    "df.loc[empty_indices, \"Roll Number\"] = random_numbers\n",
    "\n",
    "print(df)"
   ]
  },
  {
   "cell_type": "code",
   "execution_count": null,
   "metadata": {},
   "outputs": [],
   "source": []
  }
 ],
 "metadata": {
  "kernelspec": {
   "display_name": "Python 3",
   "language": "python",
   "name": "python3"
  },
  "language_info": {
   "codemirror_mode": {
    "name": "ipython",
    "version": 3
   },
   "file_extension": ".py",
   "mimetype": "text/x-python",
   "name": "python",
   "nbconvert_exporter": "python",
   "pygments_lexer": "ipython3",
   "version": "3.10.7"
  },
  "orig_nbformat": 4
 },
 "nbformat": 4,
 "nbformat_minor": 2
}
